{
 "cells": [
  {
   "cell_type": "code",
   "execution_count": null,
   "id": "initial_id",
   "metadata": {
    "collapsed": true
   },
   "outputs": [],
   "source": [
    "import pandas as pd\n",
    "dfg = pd.read_excel(\"galena1 (4) (1).xlsx\")\n",
    "dfo= pd.read_excel(\"olivine  (1).xlsx\")\n",
    "print(dfg.shape,dfo.shape)"
   ]
  },
  {
   "cell_type": "code",
   "execution_count": null,
   "outputs": [],
   "source": [
    "import pandas as pd\n",
    "import numpy as np\n",
    "import tensorflow as tf\n",
    "from tensorflow.keras.layers import Input, Dense\n",
    "from tensorflow.keras.models import Model\n",
    "\n",
    "\n",
    "# Preprocess the data (you may need to customize this part depending on your dataset)\n",
    "dfo = dfo.dropna()  # Remove rows with missing values\n",
    "dfo = dfo.select_dtypes(include=[np.number])  # Select numeric columns\n",
    "dfo = (dfo - dfo.min()) / (dfo.max() - dfo.min())  # Normalize the data\n",
    "\n",
    "# Define the dimensions for the encoder and decoder layers\n",
    "input_dim = dfo.shape[1]\n",
    "encoding_dim = 32  # Adjust the size as needed\n",
    "\n",
    "# Define the autoencoder model\n",
    "input_layer = Input(shape=(input_dim,))\n",
    "encoder = Dense(encoding_dim, activation='relu')(input_layer)\n",
    "decoder = Dense(input_dim, activation='sigmoid')(encoder)\n",
    "\n",
    "autoencoder = Model(inputs=input_layer, outputs=decoder)\n",
    "\n",
    "# Compile the model\n",
    "autoencoder.compile(optimizer='adam', loss='mean_squared_error')\n",
    "\n",
    "# Train the autoencoder\n",
    "autoencoder.fit(dfo, dfo, epochs=100, batch_size=32)\n",
    "\n",
    "# Encode the data\n",
    "encoded_data = encoder.predict(dfo)\n",
    "\n",
    "# Decode the encoded data if needed\n",
    "decoded_data = decoder.predict(encoded_data)\n"
   ],
   "metadata": {
    "collapsed": false
   },
   "id": "e560011368a5ee37"
  },
  {
   "cell_type": "code",
   "execution_count": null,
   "outputs": [],
   "source": [],
   "metadata": {
    "collapsed": false
   },
   "id": "4f82d7da93d6df44"
  }
 ],
 "metadata": {
  "kernelspec": {
   "display_name": "Python 3",
   "language": "python",
   "name": "python3"
  },
  "language_info": {
   "codemirror_mode": {
    "name": "ipython",
    "version": 2
   },
   "file_extension": ".py",
   "mimetype": "text/x-python",
   "name": "python",
   "nbconvert_exporter": "python",
   "pygments_lexer": "ipython2",
   "version": "2.7.6"
  }
 },
 "nbformat": 4,
 "nbformat_minor": 5
}
