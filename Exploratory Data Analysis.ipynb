{
 "cells": [
  {
   "cell_type": "code",
   "execution_count": 1,
   "id": "initial_id",
   "metadata": {
    "collapsed": true,
    "ExecuteTime": {
     "end_time": "2023-12-01T21:47:55.643659800Z",
     "start_time": "2023-12-01T21:47:55.581077100Z"
    }
   },
   "outputs": [
    {
     "name": "stdout",
     "output_type": "stream",
     "text": [
      "djhsdbj\n"
     ]
    }
   ],
   "source": [
    "import pandas as pd\n",
    "\n",
    "#reading data\n",
    "dfg = pd.read_excel(\"galena1 (4) (1).xlsx\")\n",
    "dfo= pd.read_excel(\"olivine  (1).xlsx\")\n",
    "print(dfg.shape,dfo.shape)\n",
    "print(dfg.columns)\n",
    "print(dfo.columns)\n"
   ]
  },
  {
   "cell_type": "code",
   "execution_count": null,
   "outputs": [],
   "source": [
    "dfo.describe\n",
    "\n",
    "ppm_columnsg = [col for col in dfg.columns if col.endswith('ppm')]\n",
    "ppm_datag = dfg[ppm_columnsg]\n",
    "import seaborn as sns\n",
    "sns.heatmap(ppm_datag.corr())\n",
    "sns.heatmap;\n"
   ],
   "metadata": {
    "collapsed": false
   },
   "id": "9e93118c9e0c707d"
  },
  {
   "cell_type": "code",
   "execution_count": null,
   "outputs": [],
   "source": [
    "\n",
    "ppm_columns = [col for col in dfo.columns if col.endswith('ppm')]\n",
    "\n",
    "ppm_data = dfo[ppm_columns]\n",
    "import seaborn as sns\n",
    "sns.heatmap(ppm_data.corr())\n",
    "sns.heatmap;\n"
   ],
   "metadata": {
    "collapsed": false
   },
   "id": "2a0bb63f1ad81f80"
  },
  {
   "cell_type": "code",
   "execution_count": null,
   "outputs": [],
   "source": [
    "import matplotlib.pyplot as plt\n",
    "import seaborn as sns\n",
    "\n",
    "plt.figure(figsize=(8, 6))\n",
    "sns.histplot(dfg['U_corrected_ppm'], bins=20, kde=True)\n",
    "plt.title('Uranium Distribution')\n",
    "plt.xlabel('U_corrected_ppm')\n",
    "plt.ylabel('analyses')\n",
    "plt.show()\n"
   ],
   "metadata": {
    "collapsed": false
   },
   "id": "816f7863cb437656"
  },
  {
   "cell_type": "code",
   "execution_count": null,
   "outputs": [],
   "source": [
    "fig, (ax1, ax2) = plt.subplots(nrows=1, ncols=2\n",
    "                               , figsize=(18, 4))\n",
    "ax1.plot(dfg['Start time'], dfg['Th_corrected_ppm'])\n",
    "ax1.set_xlabel('time')\n",
    "ax1.set_ylabel('Th')\n",
    "ax1.set_title('Time Series Analysis of Thorium Galena')\n",
    "\n",
    "ax2.plot(dfg['Start time'], dfg['U_corrected_ppm'])\n",
    "ax2.set_xlabel('time')\n",
    "ax2.set_ylabel('U')\n",
    "ax2.set_title('Time Series Analysis of Uranium Galena')\n"
   ],
   "metadata": {
    "collapsed": false
   },
   "id": "3371bb55dcc3c66b"
  },
  {
   "cell_type": "code",
   "execution_count": null,
   "outputs": [],
   "source": [
    "\n",
    "correlation_matrix = data.corr()\n",
    "plt.figure(figsize=(10, 8))\n",
    "sns.heatmap(correlation_matrix, annot=True, cmap='coolwarm')\n",
    "plt.title('Correlation Heatmap')\n",
    "plt.show()\n",
    "correlation_matrix = dfg.corr()\n",
    "plt.figure(figsize=(10, 8))\n",
    "sns.heatmap(correlation_matrix, annot=True, cmap='coolwarm')\n",
    "plt.title('Correlation Matrix')\n",
    "plt.show()"
   ],
   "metadata": {
    "collapsed": false
   },
   "id": "b22bc4ea376b74a"
  }
 ],
 "metadata": {
  "kernelspec": {
   "display_name": "Python 3",
   "language": "python",
   "name": "python3"
  },
  "language_info": {
   "codemirror_mode": {
    "name": "ipython",
    "version": 2
   },
   "file_extension": ".py",
   "mimetype": "text/x-python",
   "name": "python",
   "nbconvert_exporter": "python",
   "pygments_lexer": "ipython2",
   "version": "2.7.6"
  }
 },
 "nbformat": 4,
 "nbformat_minor": 5
}
