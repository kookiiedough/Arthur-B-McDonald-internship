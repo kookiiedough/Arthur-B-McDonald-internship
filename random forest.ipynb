{
 "cells": [
  {
   "cell_type": "code",
   "execution_count": 1,
   "id": "initial_id",
   "metadata": {
    "collapsed": true,
    "ExecuteTime": {
     "end_time": "2023-12-02T21:33:09.858284400Z",
     "start_time": "2023-12-02T21:33:09.829886900Z"
    }
   },
   "outputs": [
    {
     "ename": "ModuleNotFoundError",
     "evalue": "No module named 'pandas'",
     "output_type": "error",
     "traceback": [
      "\u001B[1;31m---------------------------------------------------------------------------\u001B[0m",
      "\u001B[1;31mModuleNotFoundError\u001B[0m                       Traceback (most recent call last)",
      "Cell \u001B[1;32mIn[1], line 1\u001B[0m\n\u001B[1;32m----> 1\u001B[0m \u001B[38;5;28;01mimport\u001B[39;00m \u001B[38;5;21;01mpandas\u001B[39;00m \u001B[38;5;28;01mas\u001B[39;00m \u001B[38;5;21;01mpd\u001B[39;00m\n\u001B[0;32m      2\u001B[0m dfg \u001B[38;5;241m=\u001B[39m pd\u001B[38;5;241m.\u001B[39mread_excel(\u001B[38;5;124m\"\u001B[39m\u001B[38;5;124mgalena1 (4) (1).xlsx\u001B[39m\u001B[38;5;124m\"\u001B[39m)\n\u001B[0;32m      3\u001B[0m dfo\u001B[38;5;241m=\u001B[39m pd\u001B[38;5;241m.\u001B[39mread_excel(\u001B[38;5;124m\"\u001B[39m\u001B[38;5;124molivine  (1).xlsx\u001B[39m\u001B[38;5;124m\"\u001B[39m)\n",
      "\u001B[1;31mModuleNotFoundError\u001B[0m: No module named 'pandas'"
     ]
    }
   ],
   "source": [
    "import pandas as pd\n",
    "dfg = pd.read_excel(\"galena1 (4) (1).xlsx\")\n",
    "dfo= pd.read_excel(\"olivine  (1).xlsx\")\n",
    "print(dfg.shape,dfo.shape)\n",
    "dfg.describe\n",
    "dfg=dfg.dropna()"
   ]
  },
  {
   "cell_type": "code",
   "execution_count": null,
   "outputs": [],
   "source": [
    "import pandas as pd\n",
    "from sklearn.model_selection import train_test_split\n",
    "from sklearn.ensemble import RandomForestRegressor\n",
    "from sklearn.metrics import mean_absolute_error, mean_squared_error\n",
    "dfo=dfg.dropna()\n",
    "\n",
    "\n",
    "# Select relevant features (U and Th concentrations)\n",
    "features = dfg[['U238_ppm_mean', 'Th232_ppm_mean']]\n",
    "\n",
    "# Define the target variables\n",
    "target_u = dfg['U_corrected_ppm']\n",
    "target_th = dfg['Th_corrected_ppm']\n",
    "\n",
    "# Split the dataset into training and testing sets\n",
    "X_train, X_test, y_train_u, y_test_u, y_train_th, y_test_th = train_test_split(\n",
    "    features, target_u, target_th, test_size=0.2, random_state=42\n",
    ")\n",
    "\n",
    "# Create a Random Forest model for Uranium prediction\n",
    "rf_u = RandomForestRegressor(n_estimators=100, random_state=42)\n",
    "rf_u.fit(X_train, y_train_u)\n",
    "\n",
    "# Predict Uranium concentrations on the testing set\n",
    "predictions_u = rf_u.predict(X_test)\n",
    "\n",
    "# Evaluate the model for Uranium prediction\n",
    "mae_u = mean_absolute_error(y_test_u, predictions_u)\n",
    "rmse_u = mean_squared_error(y_test_u, predictions_u, squared=False)\n",
    "print(f\"Uranium MAE: {mae_u:.4f}\")\n",
    "print(f\"Uranium RMSE: {rmse_u:.4f}\")\n",
    "\n",
    "# Create a Random Forest model for Thorium prediction\n",
    "rf_th = RandomForestRegressor(n_estimators=100, random_state=42)\n",
    "rf_th.fit(X_train, y_train_th)\n",
    "\n",
    "# Predict Thorium concentrations on the testing set\n",
    "predictions_th = rf_th.predict(X_test)\n",
    "\n",
    "# Evaluate the model for Thorium prediction\n",
    "mae_th = mean_absolute_error(y_test_th, predictions_th)\n",
    "rmse_th = mean_squared_error(y_test_th, predictions_th, squared=False)\n",
    "print(f\"Thorium MAE: {mae_th:.4f}\")\n",
    "print(f\"Thorium RMSE: {rmse_th:.4f}\")\n",
    "\n",
    "# Now, you can proceed with comparing the predictions with your dark matter tracks data and further analysis.\n"
   ],
   "metadata": {
    "collapsed": false
   },
   "id": "d78173ef26c4aae8"
  },
  {
   "cell_type": "code",
   "execution_count": null,
   "outputs": [],
   "source": [
    "import matplotlib.pyplot as plt\n",
    "\n",
    "# Create scatter plots for Uranium predictions\n",
    "plt.figure(figsize=(12, 6))\n",
    "plt.subplot(1, 2, 1)\n",
    "plt.scatter(y_test_u, predictions_u, alpha=0.5, c='b', label='Actual')\n",
    "plt.xlabel('Actual Uranium Concentrations')\n",
    "plt.ylabel('Predicted Uranium Concentrations')\n",
    "plt.title('Uranium Prediction')\n",
    "plt.legend()\n",
    "\n",
    "# Create scatter plots for Thorium predictions\n",
    "plt.subplot(1, 2, 2)\n",
    "plt.scatter(y_test_th, predictions_th, alpha=0.5, c='g', label='Actual')\n",
    "plt.xlabel('Actual Thorium Concentrations')\n",
    "plt.ylabel('Predicted Thorium Concentrations')\n",
    "plt.title('Thorium Prediction')\n",
    "plt.legend()\n",
    "\n",
    "plt.tight_layout()\n",
    "plt.show()\n"
   ],
   "metadata": {
    "collapsed": false
   },
   "id": "7e8f74530d3708dc"
  }
 ],
 "metadata": {
  "kernelspec": {
   "display_name": "Python 3",
   "language": "python",
   "name": "python3"
  },
  "language_info": {
   "codemirror_mode": {
    "name": "ipython",
    "version": 2
   },
   "file_extension": ".py",
   "mimetype": "text/x-python",
   "name": "python",
   "nbconvert_exporter": "python",
   "pygments_lexer": "ipython2",
   "version": "2.7.6"
  }
 },
 "nbformat": 4,
 "nbformat_minor": 5
}
