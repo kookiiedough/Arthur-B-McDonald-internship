{
 "cells": [
  {
   "cell_type": "code",
   "execution_count": null,
   "id": "initial_id",
   "metadata": {
    "collapsed": true
   },
   "outputs": [],
   "source": [
    "import pandas as pd\n",
    "dfg = pd.read_excel(\"galena1 (4) (1).xlsx\")\n",
    "dfo= pd.read_excel(\"olivine  (1).xlsx\")\n",
    "print(dfg.shape,dfo.shape)"
   ]
  },
  {
   "cell_type": "code",
   "execution_count": null,
   "outputs": [],
   "source": [
    "import pandas as pd\n",
    "import numpy as np\n",
    "from sklearn.model_selection import KFold\n",
    "from sklearn.preprocessing import StandardScaler\n",
    "from sklearn.metrics import mean_squared_error\n",
    "from keras.layers import Input, Dense\n",
    "from keras.models import Model\n",
    "from keras.optimizers import Adam\n",
    "import matplotlib.pyplot as plt\n",
    "\n",
    "# Load and preprocess your data\n",
    "\n",
    "\n",
    "# Drop unnecessary columns and handle missing values\n",
    "selected_columns = ['U_corrected_ppm', 'Th_corrected_ppm']  # Example columns\n",
    "data = dfg[selected_columns].dropna()\n",
    "\n",
    "# Standardize the data\n",
    "scaler = StandardScaler()\n",
    "data_scaled = scaler.fit_transform(data)\n",
    "\n",
    "# Define the Autoencoder model\n",
    "input_layer = Input(shape=(len(selected_columns),))\n",
    "encoded = Dense(64, activation='relu')(input_layer)\n",
    "decoded = Dense(len(selected_columns), activation='linear')(encoded)\n",
    "\n",
    "autoencoder = Model(input_layer, decoded)\n",
    "autoencoder.compile(optimizer=Adam(lr=0.001), loss='mean_squared_error')\n",
    "\n",
    "# Cross-validation\n",
    "kf = KFold(n_splits=5, shuffle=True, random_state=42)\n",
    "fold_num = 1\n",
    "\n",
    "for train_index, val_index in kf.split(data_scaled):\n",
    "    X_train, X_val = data_scaled[train_index], data_scaled[val_index]\n",
    "\n",
    "    # Train the Autoencoder\n",
    "    autoencoder.fit(X_train, X_train, epochs=50, batch_size=32, verbose=1)\n",
    "\n",
    "    # Evaluate on the validation set\n",
    "    val_predictions = autoencoder.predict(X_val)\n",
    "    mse = mean_squared_error(X_val, val_predictions)\n",
    "    print(f'Mean Squared Error on Validation Set (Fold {fold_num}): {mse}')\n",
    "\n",
    "    # Visualize original vs. reconstructed data for a random sample from the validation set\n",
    "    sample_index = np.random.randint(0, len(X_val))\n",
    "    original_sample = X_val[sample_index]\n",
    "    reconstructed_sample = val_predictions[sample_index]\n",
    "\n",
    "    plt.figure(figsize=(8, 4))\n",
    "    plt.plot(selected_columns, original_sample, label='Original', marker='o')\n",
    "    plt.plot(selected_columns, reconstructed_sample, label='Reconstructed', marker='x')\n",
    "    plt.title(f'Fold {fold_num}: Original vs. Reconstructed Data')\n",
    "    plt.xlabel('Features')\n",
    "    plt.ylabel('Standardized Values')\n",
    "    plt.legend()\n",
    "    plt.show()\n",
    "\n",
    "    fold_num += 1\n"
   ],
   "metadata": {
    "collapsed": false
   },
   "id": "87b5251f08f23e33"
  },
  {
   "cell_type": "code",
   "execution_count": null,
   "outputs": [],
   "source": [],
   "metadata": {
    "collapsed": false
   },
   "id": "b455514d51c4f340"
  }
 ],
 "metadata": {
  "kernelspec": {
   "display_name": "Python 3",
   "language": "python",
   "name": "python3"
  },
  "language_info": {
   "codemirror_mode": {
    "name": "ipython",
    "version": 2
   },
   "file_extension": ".py",
   "mimetype": "text/x-python",
   "name": "python",
   "nbconvert_exporter": "python",
   "pygments_lexer": "ipython2",
   "version": "2.7.6"
  }
 },
 "nbformat": 4,
 "nbformat_minor": 5
}
