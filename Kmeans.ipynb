{
 "cells": [
  {
   "cell_type": "code",
   "execution_count": null,
   "id": "initial_id",
   "metadata": {
    "collapsed": true
   },
   "outputs": [],
   "source": [
    "# Import ncessary modules.\n",
    "import xlrd\n",
    "import pandas as pd\n",
    "import numpy as np\n",
    "import seaborn as sns\n",
    "import matplotlib.pyplot as plt\n",
    "from sklearn.cluster import KMeans\n",
    "from sklearn.preprocessing import StandardScaler\n",
    "\n"
   ]
  },
  {
   "cell_type": "code",
   "execution_count": null,
   "outputs": [],
   "source": [
    "# File path to your Excel file.\n",
    "file_path = 'Olivine_May17_2023_Iolite_EXP_Full.xlsx'\n",
    "\n",
    "# Define the sheet name to read.\n",
    "sheet_name = 'Data'\n",
    "\n",
    "# Read only two columns \"Th_ppm\" and \"U_ppm\".\n",
    "df = pd.read_excel(file_path, sheet_name=sheet_name, usecols = ['Th_ppm','U_ppm'])\n",
    "\n",
    "# Remove all rows that have at least one NaN.\n",
    "df = df.dropna()\n",
    "\n",
    "# Remove \"<\" from the values.\n",
    "df['Th_ppm'] = df['Th_ppm'].apply(lambda x: x.replace('<', '') if isinstance(x, str) and '<' in x else x)\n",
    "df['U_ppm'] = df['U_ppm'].apply(lambda x: x.replace('<', '') if isinstance(x, str) and '<' in x else x)\n",
    "\n",
    "# Change to \"object\" to \"float\".\n",
    "df['Th_ppm'] = df['Th_ppm'].astype(float)\n",
    "df['U_ppm'] = df['U_ppm'].astype(float)"
   ],
   "metadata": {
    "collapsed": false
   },
   "id": "f47073f31343c98e"
  },
  {
   "cell_type": "code",
   "execution_count": null,
   "outputs": [],
   "source": [
    "# Set the data for clustering\n",
    "X = df[['Th_ppm', 'U_ppm']].values\n",
    "\n",
    "# Choose the number of clusters (k)\n",
    "k = 3\n",
    "\n",
    "# Initialize and fit the KMeans model\n",
    "kmeans = KMeans(n_clusters=k)\n",
    "kmeans.fit(X)\n",
    "\n",
    "# Add cluster labels to the DataFrame\n",
    "df['cluster'] = kmeans.labels_"
   ],
   "metadata": {
    "collapsed": false
   },
   "id": "98a75a6d6cdbface"
  },
  {
   "cell_type": "code",
   "execution_count": null,
   "outputs": [],
   "source": [
    "# Scatter plot with the centroids.\n",
    "sns.scatterplot(data=df, x=\"Th_ppm\", y=\"U_ppm\", hue=kmeans.labels_)\n",
    "plt.scatter(kmeans.cluster_centers_[:,0], kmeans.cluster_centers_[:,1],\n",
    "            marker=\"X\", c=\"r\", s=80, label=\"centroids\")\n",
    "plt.legend()\n",
    "plt.show()"
   ],
   "metadata": {
    "collapsed": false
   },
   "id": "b40f7c13191dc15b"
  },
  {
   "cell_type": "code",
   "execution_count": null,
   "outputs": [],
   "source": [
    "# Plot the distortion score elbow.\n",
    "from yellowbrick.cluster import KElbowVisualizer\n",
    "model = KMeans()\n",
    "visualizer = KElbowVisualizer(model, k=(1,12)).fit(df)\n",
    "visualizer.show()"
   ],
   "metadata": {
    "collapsed": false
   },
   "id": "cb471802f0b67ba4"
  },
  {
   "cell_type": "code",
   "execution_count": null,
   "outputs": [],
   "source": [
    "# Import additional libraries for hierarchical clustering\n",
    "from sklearn.cluster import AgglomerativeClustering\n",
    "from scipy.cluster.hierarchy import dendrogram, linkage\n",
    "\n",
    "# ... Previous code ...\n",
    "\n",
    "# Perform KMeans clustering as before\n",
    "kmeans = KMeans(n_clusters=k)\n",
    "kmeans.fit(X)\n",
    "\n",
    "# Add cluster labels to the DataFrame\n",
    "df['cluster'] = kmeans.labels_\n",
    "\n",
    "# Visualize KMeans clusters\n",
    "sns.scatterplot(data=df, x=\"Th_ppm\", y=\"U_ppm\", hue=kmeans.labels_)\n",
    "plt.scatter(kmeans.cluster_centers_[:,0], kmeans.cluster_centers_[:,1],\n",
    "            marker=\"X\", c=\"r\", s=80, label=\"centroids\")\n",
    "plt.legend()\n",
    "plt.show()\n",
    "\n",
    "# Apply hierarchical clustering within each KMeans cluster\n",
    "for cluster_label in range(k):\n",
    "    cluster_data = df[df['cluster'] == cluster_label][['Th_ppm', 'U_ppm']]\n",
    "\n",
    "    # Perform hierarchical clustering within the current KMeans cluster\n",
    "    hierarchical_cluster = AgglomerativeClustering(n_clusters=2, linkage='ward')\n",
    "    hierarchical_labels = hierarchical_cluster.fit_predict(cluster_data)\n",
    "\n",
    "    # Add hierarchical cluster labels to the DataFrame\n",
    "    df.loc[df['cluster'] == cluster_label, 'hierarchical_cluster'] = hierarchical_labels\n",
    "\n",
    "# Visualize hierarchical clusters within each KMeans cluster\n",
    "sns.scatterplot(data=df, x=\"Th_ppm\", y=\"U_ppm\", hue='hierarchical_cluster')\n",
    "plt.show()\n"
   ],
   "metadata": {
    "collapsed": false
   },
   "id": "d998602ef5d12422"
  },
  {
   "cell_type": "code",
   "execution_count": null,
   "outputs": [],
   "source": [
    "# Import the necessary module for hierarchical clustering.\n",
    "from sklearn.cluster import AgglomerativeClustering\n",
    "\n",
    "# ...\n",
    "\n",
    "# Continue from where the KMeans clustering left off\n",
    "# The KMeans clusters are already assigned in the 'cluster' column of the DataFrame 'df'.\n",
    "\n",
    "# Extract the data of each cluster\n",
    "cluster_data = {}\n",
    "for cluster_label in range(k):\n",
    "cluster_data[cluster_label] = X[df['cluster'] == cluster_label]\n",
    "\n",
    "# Create a dictionary to store hierarchical clustering labels for each cluster\n",
    "hierarchical_labels = {}\n",
    "\n",
    "# Perform hierarchical clustering within each KMeans cluster\n",
    "for cluster_label in range(k):\n",
    "    hierarchical_clusterer = AgglomerativeClustering(n_clusters=2)  # You can specify the number of clusters within each KMeans cluster\n",
    "    hierarchical_cluster_labels = hierarchical_clusterer.fit_predict(cluster_data[cluster_label])\n",
    "    hierarchical_labels[cluster_label] = hierarchical_cluster_labels\n",
    "\n",
    "# Add hierarchical cluster labels to the DataFrame\n",
    "df['hierarchical_cluster'] = np.nan\n",
    "\n",
    "for cluster_label in range(k):\n",
    "    df.loc[df['cluster'] == cluster_label, 'hierarchical_cluster'] = hierarchical_labels[cluster_label]\n",
    "\n",
    "# Scatter plot the hierarchical clusters within the KMeans clusters\n",
    "sns.scatterplot(data=df, x=\"Th_ppm\", y=\"U_ppm\", hue=\"hierarchical_cluster\")\n",
    "plt.legend()\n",
    "plt.show()\n"
   ],
   "metadata": {
    "collapsed": false
   },
   "id": "c1955a7822868a33"
  },
  {
   "cell_type": "code",
   "execution_count": null,
   "outputs": [],
   "source": [
    "import matplotlib.pyplot as plt\n",
    "from sklearn.cluster import AgglomerativeClustering\n",
    "from yellowbrick.cluster import KElbowVisualizer\n",
    "from scipy.spatial.distance import cdist\n",
    "import numpy as np\n",
    "\n",
    "# ...\n",
    "\n",
    "# Continue from where the KMeans clustering left off\n",
    "# The KMeans clusters are already assigned in the 'cluster' column of the DataFrame 'df'.\n",
    "\n",
    "# Create a list to store the distortion scores for hierarchical clusters within each KMeans cluster\n",
    "distortion_scores = []\n",
    "\n",
    "# Initialize the KElbowVisualizer for hierarchical clusters within KMeans clusters\n",
    "model = AgglomerativeClustering()\n",
    "\n",
    "# Perform hierarchical clustering within each KMeans cluster and calculate the distortion score\n",
    "for cluster_label in range(k):\n",
    "    hierarchical_clusterer = AgglomerativeClustering(n_clusters=2)  # You can specify the number of clusters within each KMeans cluster\n",
    "    hierarchical_cluster_labels = hierarchical_clusterer.fit_predict(cluster_data[cluster_label])\n",
    "\n",
    "    # Calculate the distortion score for the hierarchical clusters\n",
    "    hierarchical_cluster_data = cluster_data[cluster_label]\n",
    "    hierarchical_distortion_score = sum(np.min(cdist(hierarchical_cluster_data, hierarchical_cluster_data, 'euclidean'), axis=1)) / hierarchical_cluster_data.shape[0]\n",
    "\n",
    "    distortion_scores.append(hierarchical_distortion_score)\n",
    "\n",
    "# Plot the distortion score for each hierarchical cluster within KMeans clusters\n",
    "visualizer = KElbowVisualizer(model, k=(1, 12))\n",
    "visualizer.fit(df[['Th_ppm', 'U_ppm', 'hierarchical_cluster']])\n",
    "visualizer.show()\n"
   ],
   "metadata": {
    "collapsed": false
   },
   "id": "f1a56557cb95f9b1"
  }
 ],
 "metadata": {
  "kernelspec": {
   "display_name": "Python 3",
   "language": "python",
   "name": "python3"
  },
  "language_info": {
   "codemirror_mode": {
    "name": "ipython",
    "version": 2
   },
   "file_extension": ".py",
   "mimetype": "text/x-python",
   "name": "python",
   "nbconvert_exporter": "python",
   "pygments_lexer": "ipython2",
   "version": "2.7.6"
  }
 },
 "nbformat": 4,
 "nbformat_minor": 5
}
