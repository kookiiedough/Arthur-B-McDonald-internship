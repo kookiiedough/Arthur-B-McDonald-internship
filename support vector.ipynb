{
 "cells": [
  {
   "cell_type": "code",
   "execution_count": null,
   "id": "initial_id",
   "metadata": {
    "collapsed": true
   },
   "outputs": [],
   "source": [
    "import pandas as pd\n",
    "from sklearn.model_selection import train_test_split\n",
    "from sklearn.preprocessing import StandardScaler\n",
    "from sklearn.svm import SVR\n",
    "from sklearn.metrics import mean_squared_error\n"
   ]
  },
  {
   "cell_type": "code",
   "execution_count": null,
   "outputs": [],
   "source": [
    "dfg = pd.read_excel(\"galena1 (4) (1).xlsx\")\n",
    "dfo= pd.read_excel(\"olivine  (1).xlsx\")\n",
    "print(dfg.shape,dfo.shape)"
   ],
   "metadata": {
    "collapsed": false
   },
   "id": "28bb675869e674e7"
  },
  {
   "cell_type": "code",
   "execution_count": null,
   "outputs": [],
   "source": [
    "dfg = dfg.dropna()  \n",
    "dfo=dfo.dropna()\n"
   ],
   "metadata": {
    "collapsed": false
   },
   "id": "aadf7d9bdbe0256a"
  },
  {
   "cell_type": "code",
   "execution_count": null,
   "outputs": [],
   "source": [
    "import pandas as pd\n",
    "from sklearn.model_selection import train_test_split, GridSearchCV\n",
    "from sklearn.preprocessing import StandardScaler\n",
    "from sklearn.svm import SVR\n",
    "from sklearn.metrics import mean_squared_error\n",
    "\n",
    "\n",
    "\n",
    "dfg[['x', 'y']] =dfg['Position (x y)'].str.strip('()').str.split(',', expand=True).astype(float)\n",
    "X = dfg[['x', 'y']]\n",
    "y = dfg['U_corrected_ppm']\n",
    "\n",
    "# Split the data into training and testing sets\n",
    "X_train, X_test, y_train, y_test = train_test_split(X, y, test_size=0.2, random_state=42)\n",
    "\n",
    "# Feature Scaling\n",
    "scaler = StandardScaler()\n",
    "X_train_scaled = scaler.fit_transform(X_train)\n",
    "X_test_scaled = scaler.transform(X_test)\n",
    "\n",
    "# Hyperparameter Tuning\n",
    "param_grid = {\n",
    "    'kernel': ['linear', 'rbf'],  # You can add more kernel options\n",
    "    'C': [0.1, 1, 10],  # Regularization parameter\n",
    "}\n",
    "\n",
    "svr_model = SVR()\n",
    "grid_search = GridSearchCV(svr_model, param_grid, cv=5)\n",
    "grid_search.fit(X_train_scaled, y_train)\n",
    "\n",
    "best_svr_model = grid_search.best_estimator_\n",
    "\n",
    "# Predictions\n",
    "y_pred = best_svr_model.predict(X_test_scaled)\n",
    "\n",
    "# Calculate Mean Squared Error\n",
    "mse = mean_squared_error(y_test, y_pred)\n",
    "print(f'Mean Squared Error: {mse:.2f}')\n",
    "\n",
    "# Visualize Results (scatter plot)\n",
    "import matplotlib.pyplot as plt\n",
    "\n",
    "\n",
    "\n",
    "# Visualize Results (scatter plot)\n",
    "plt.scatter(y_test, y_pred, c='blue', label='Predicted Values', alpha=0.5)\n",
    "plt.scatter(y_test, y_test, c='red', label='True Values', alpha=0.5)\n",
    "plt.xlabel('True Values')\n",
    "plt.ylabel('Predicted Values')\n",
    "plt.title('True vs. Predicted Values')\n",
    "plt.legend()\n",
    "plt.show()\n",
    "\n",
    "\n",
    "\n",
    "\n",
    "\n"
   ],
   "metadata": {
    "collapsed": false
   },
   "id": "36d68f78ce35350c"
  },
  {
   "cell_type": "code",
   "execution_count": null,
   "outputs": [],
   "source": [
    "import pandas as pd\n",
    "from sklearn.model_selection import train_test_split, GridSearchCV\n",
    "from sklearn.preprocessing import StandardScaler\n",
    "from sklearn.svm import SVR\n",
    "from sklearn.metrics import mean_squared_error\n",
    "\n",
    "\n",
    "\n",
    "dfo[['x', 'y']] =dfo['Position (x y)'].str.strip('()').str.split(',', expand=True).astype(float)\n",
    "X = dfo[['x', 'y']]\n",
    "y = dfo['U_ppm']\n",
    "\n",
    "# Split the data into training and testing sets\n",
    "X_train, X_test, y_train, y_test = train_test_split(X, y, test_size=0.2, random_state=42)\n",
    "\n",
    "# Feature Scaling\n",
    "scaler = StandardScaler()\n",
    "X_train_scaled = scaler.fit_transform(X_train)\n",
    "X_test_scaled = scaler.transform(X_test)\n",
    "\n",
    "# Hyperparameter Tuning\n",
    "param_grid = {\n",
    "    'kernel': ['linear', 'rbf'],  # You can add more kernel options\n",
    "    'C': [0.1, 1, 10],  # Regularization parameter\n",
    "}\n",
    "\n",
    "svr_model = SVR()\n",
    "grid_search = GridSearchCV(svr_model, param_grid, cv=5)\n",
    "grid_search.fit(X_train_scaled, y_train)\n",
    "\n",
    "best_svr_model = grid_search.best_estimator_\n",
    "\n",
    "# Predictions\n",
    "y_pred = best_svr_model.predict(X_test_scaled)\n",
    "\n",
    "# Calculate Mean Squared Error\n",
    "mse = mean_squared_error(y_test, y_pred)\n",
    "print(f'Mean Squared Error: {mse:.2f}')\n",
    "\n",
    "# Visualize Results (scatter plot)\n",
    "import matplotlib.pyplot as plt\n",
    "\n",
    "\n",
    "\n",
    "# Visualize Results (scatter plot)\n",
    "plt.scatter(y_test, y_pred, c='blue', label='Predicted Values', alpha=0.5)\n",
    "plt.scatter(y_test, y_test, c='red', label='True Values', alpha=0.5)\n",
    "plt.xlabel('True Values')\n",
    "plt.ylabel('Predicted Values')\n",
    "plt.title('True vs. Predicted Values')\n",
    "plt.legend()\n",
    "plt.show()\n",
    "\n",
    "\n",
    "\n",
    "dfg['Unnamed: 0']\n",
    "\n"
   ],
   "metadata": {
    "collapsed": false
   },
   "id": "90a52de19659897a"
  }
 ],
 "metadata": {
  "kernelspec": {
   "display_name": "Python 3",
   "language": "python",
   "name": "python3"
  },
  "language_info": {
   "codemirror_mode": {
    "name": "ipython",
    "version": 2
   },
   "file_extension": ".py",
   "mimetype": "text/x-python",
   "name": "python",
   "nbconvert_exporter": "python",
   "pygments_lexer": "ipython2",
   "version": "2.7.6"
  }
 },
 "nbformat": 4,
 "nbformat_minor": 5
}
